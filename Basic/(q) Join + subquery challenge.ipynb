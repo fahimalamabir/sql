{
 "cells": [
  {
   "cell_type": "markdown",
   "metadata": {},
   "source": [
    "#### CHALLENGE 1\n",
    "- Select unique country names. Also select the total investment and imports fields.\n",
    "- Use a left join with countries on the left. (An inner join would also work, but please use a left join here.)\n",
    "- Match on code in the two tables AND use a subquery inside of ON to choose the appropriate languages records.\n",
    "- Order by country name ascending.\n",
    "- Use table aliasing but not field aliasing in this exercise.\n",
    "\n",
    "```\n",
    "SELECT DISTINCT c.name, e.total_investment, imports\n",
    "  FROM countries AS c\n",
    "    LEFT JOIN economies AS e\n",
    "     ON (c.code = e.code\n",
    "      AND c.code IN (\n",
    "        SELECT l.code\n",
    "        FROM languages AS l\n",
    "        WHERE official = 'true'\n",
    "      ) )\n",
    "  WHERE region = 'Central America' AND year = 2015\n",
    "ORDER BY name;\n",
    "```"
   ]
  },
  {
   "cell_type": "markdown",
   "metadata": {},
   "source": [
    "#### CHALLENGE 2\n",
    "\n",
    "- Include the name of region, its continent, and average fertility rate aliased as avg_fert_rate.\n",
    "- Sort based on avg_fert_rate ascending.\n",
    "Remember that you'll need to GROUP BY all fields that aren't included in the aggregate function of SELECT.\n",
    "\n",
    "```\n",
    "SELECT c.region, continent, AVG(p.fertility_rate) AS avg_fert_rate\n",
    "  FROM countries AS c\n",
    "    INNER JOIN populations AS p\n",
    "      ON  c.code= p.country_code\n",
    "  WHERE year = 2015\n",
    "GROUP BY c.region, continent\n",
    "ORDER BY avg_fert_rate;\n",
    "```"
   ]
  },
  {
   "cell_type": "markdown",
   "metadata": {},
   "source": [
    "#### CHALLENGE 3\n",
    "- Select the city name, country code, city proper population, and metro area population.\n",
    "- Calculate the percentage of metro area population composed of city proper population for each city in cities, aliased as city_perc.\n",
    "- Focus only on capital cities in Europe and the Americas in a subquery.\n",
    "- Make sure to exclude records with missing data on metro area population.\n",
    "\n",
    "```\n",
    "-- Select fields\n",
    "SELECT name, country_code, city_proper_pop, metroarea_pop,\n",
    "\t  -- Calculate city_perc\n",
    "      city_proper_pop / metroarea_pop * 100 AS city_perc\n",
    "  -- From appropriate table    \n",
    "  FROM cities\n",
    "  -- Where\n",
    "  WHERE name IN\n",
    "    -- Subquery\n",
    "    (SELECT capital\n",
    "     FROM countries\n",
    "     WHERE (continent = 'Europe'\n",
    "        OR continent LIKE '%America'))\n",
    "       AND metroarea_pop IS NOT NULL\n",
    "-- Order appropriately\n",
    "ORDER BY city_perc DESC\n",
    "-- Limit amount\n",
    "LIMIT 10;\n",
    "```"
   ]
  },
  {
   "cell_type": "code",
   "execution_count": null,
   "metadata": {},
   "outputs": [],
   "source": []
  }
 ],
 "metadata": {
  "kernelspec": {
   "display_name": "Python 3",
   "language": "python",
   "name": "python3"
  },
  "language_info": {
   "codemirror_mode": {
    "name": "ipython",
    "version": 3
   },
   "file_extension": ".py",
   "mimetype": "text/x-python",
   "name": "python",
   "nbconvert_exporter": "python",
   "pygments_lexer": "ipython3",
   "version": "3.7.7"
  }
 },
 "nbformat": 4,
 "nbformat_minor": 4
}
