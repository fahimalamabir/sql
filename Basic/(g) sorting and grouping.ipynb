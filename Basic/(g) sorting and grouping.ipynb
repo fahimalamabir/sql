{
 "cells": [
  {
   "cell_type": "markdown",
   "metadata": {},
   "source": [
    "### Sorting single columns\n",
    "- Get the names of people from the people table, sorted alphabetically.\n",
    "```\n",
    "SELECT name\n",
    "FROM people\n",
    "ORDER BY name;\n",
    "```\n",
    "- Get the names of people, sorted by birth date.\n",
    "```\n",
    "SELECT name\n",
    "FROM people\n",
    "ORDER BY birthdate;\n",
    "```\n",
    "- Get the birth date and name for every person, in order of when they were born.\n",
    "```\n",
    "SELECT name,birthdate\n",
    "FROM people\n",
    "ORDER BY birthdate;\n",
    "```\n",
    "- Get the title of films released in 2000 or 2012, in the order they were released.\n",
    "```\n",
    "SELECT title\n",
    "FROM films\n",
    "WHERE release_year IN (2000, 2012)\n",
    "ORDER BY release_year;\n",
    "```\n",
    "- Get all details for all films except those released in 2015 and order them by duration.\n",
    "```\n",
    "SELECT *\n",
    "FROM films\n",
    "WHERE release_year <> 2015\n",
    "ORDER BY duration;\n",
    "```\n",
    "- Get the title and gross earnings for movies which begin with the letter 'M' and order the results alphabetically.\n",
    "```\n",
    "SELECT title, gross\n",
    "FROM films\n",
    "WHERE title LIKE 'M%'\n",
    "ORDER BY title;\n",
    "```"
   ]
  },
  {
   "cell_type": "markdown",
   "metadata": {},
   "source": [
    "To order results in descending order, you can put the keyword DESC after your ORDER BY. For example, to get all the names in the people table, in reverse alphabetical order:\n",
    "```\n",
    "SELECT name\n",
    "FROM people\n",
    "ORDER BY name DESC;\n",
    "```"
   ]
  },
  {
   "cell_type": "markdown",
   "metadata": {},
   "source": [
    "#### Sorting multiple columns\n",
    "ORDER BY can also be used to sort on multiple columns. It will sort by the first column specified, then sort by the next, then the next, and so on. For example,\n",
    "```\n",
    "SELECT birthdate, name\n",
    "FROM people\n",
    "ORDER BY birthdate, name;\n",
    "```\n",
    "sorts on birth dates first (oldest to newest) and then sorts on the names in alphabetical order. The order of columns is important!\n",
    "\n",
    "Try using ORDER BY to sort multiple columns! Remember, to specify multiple columns you separate the column names with a comma."
   ]
  },
  {
   "cell_type": "markdown",
   "metadata": {},
   "source": [
    "- Get the birth date and name of people in the people table, in order of when they were born and alphabetically by name.\n",
    "```\n",
    "SELECT birthdate,name\n",
    "FROM people\n",
    "ORDER BY birthdate,name;\n",
    "```\n",
    "- Get the release year, duration, and title of films ordered by their release year and duration.\n",
    "```\n",
    "SELECT release_year, duration, title\n",
    "FROM films\n",
    "ORDER BY release_year, duration;\n",
    "```\n",
    "- Get certifications, release years, and titles of films ordered by certification (alphabetically) and release year.\n",
    "```\n",
    "SELECT certification, release_year, title\n",
    "FROM films\n",
    "ORDER BY certification, release_year;\n",
    "```"
   ]
  },
  {
   "cell_type": "markdown",
   "metadata": {},
   "source": [
    "#### GROUP BY\n",
    "Now you know how to sort results! Often you'll need to aggregate results. For example, you might want to count the number of male and female employees in your company. Here, what you want is to group all the males together and count them, and group all the females together and count them. In SQL, GROUP BY allows you to group a result by one or more columns, like so:\n",
    "```\n",
    "SELECT sex, count(*)\n",
    "FROM employees\n",
    "GROUP BY sex;\n",
    "```\n",
    "This might give, for example:\n",
    "```\n",
    "sex\tcount\n",
    "male\t15\n",
    "female\t19\n",
    "```\n",
    "Commonly, GROUP BY is used with aggregate functions like COUNT() or MAX(). Note that GROUP BY always goes after the FROM clause!\n",
    "\n"
   ]
  },
  {
   "cell_type": "markdown",
   "metadata": {},
   "source": [
    "- Get the release year and count of films released in each year.\n",
    "```\n",
    "SELECT release_year, COUNT(*)\n",
    "FROM films\n",
    "GROUP BY release_year;\n",
    "```\n",
    "- Get the release year and average duration of all films, grouped by release year.\n",
    "```\n",
    "SELECT release_year, AVG(duration)\n",
    "FROM films\n",
    "GROUP BY release_year;\n",
    "```\n",
    "- Get the release year and largest budget for all films, grouped by release year.\n",
    "```\n",
    "SELECT release_year, MAX(budget)\n",
    "FROM films\n",
    "GROUP BY release_year;\n",
    "```\n",
    "- Get the IMDB score and count of film reviews grouped by IMDB score in the reviews table.\n",
    "```\n",
    "SELECT imdb_score, COUNT(*)\n",
    "FROM reviews\n",
    "GROUP BY imdb_score;\n",
    "```\n"
   ]
  }
 ],
 "metadata": {
  "kernelspec": {
   "display_name": "Python 3",
   "language": "python",
   "name": "python3"
  },
  "language_info": {
   "codemirror_mode": {
    "name": "ipython",
    "version": 3
   },
   "file_extension": ".py",
   "mimetype": "text/x-python",
   "name": "python",
   "nbconvert_exporter": "python",
   "pygments_lexer": "ipython3",
   "version": "3.7.7"
  }
 },
 "nbformat": 4,
 "nbformat_minor": 4
}
