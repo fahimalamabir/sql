{
 "cells": [
  {
   "cell_type": "markdown",
   "metadata": {},
   "source": [
    "Link to install\n",
    "https://www.postgresqltutorial.com/postgresql-getting-started/\n",
    "\n",
    "\n",
    "After installation make sure, you have added the variable properly.\n",
    "\n",
    "Then check whether its running properly"
   ]
  },
  {
   "cell_type": "markdown",
   "metadata": {},
   "source": [
    "Ensure the PostgreSQL service is running:\n",
    "\n",
    "- Press Windows + R, type services.msc, and press Enter.\n",
    "- Scroll down to find a service named similar to postgresql-x64-<version>.\n",
    "- If the service status is not \"Running\", right-click it and choose Start.\n",
    "    \n",
    "    Using the Full Path: Try running psql by specifying its full path directly in the command prompt to bypass any potential PATH issues:\n",
    "\n",
    "\n",
    "\"C:\\Program Files\\PostgreSQL\\<version>\\bin\\psql.exe\" -U postgres"
   ]
  },
  {
   "cell_type": "markdown",
   "metadata": {},
   "source": [
    "Connecting database:\n",
    "    https://www.postgresqltutorial.com/postgresql-getting-started/connect-to-postgresql-database/"
   ]
  },
  {
   "cell_type": "code",
   "execution_count": null,
   "metadata": {},
   "outputs": [],
   "source": []
  }
 ],
 "metadata": {
  "kernelspec": {
   "display_name": "Python 3 (ipykernel)",
   "language": "python",
   "name": "python3"
  },
  "language_info": {
   "codemirror_mode": {
    "name": "ipython",
    "version": 3
   },
   "file_extension": ".py",
   "mimetype": "text/x-python",
   "name": "python",
   "nbconvert_exporter": "python",
   "pygments_lexer": "ipython3",
   "version": "3.7.7"
  }
 },
 "nbformat": 4,
 "nbformat_minor": 4
}
