{
 "cells": [
  {
   "cell_type": "code",
   "execution_count": 1,
   "metadata": {},
   "outputs": [],
   "source": [
    "import pandas as pd\n",
    "import sqlite3\n",
    "import os\n",
    "\n",
    "# Path to the directory containing your CSV files\n",
    "directory = 'C:/Users/aBr/Downloads/countries/countries'\n",
    "\n",
    "# Connect to the SQLite database\n",
    "conn = sqlite3.connect('1st.db')\n",
    "\n",
    "# Iterate over every CSV file in the directory\n",
    "for filename in os.listdir(directory):\n",
    "    if filename.endswith('.csv'):\n",
    "        # Construct the full file path\n",
    "        file_path = os.path.join(directory, filename)\n",
    "\n",
    "        # Read the CSV file into a pandas DataFrame\n",
    "        df = pd.read_csv(file_path)\n",
    "\n",
    "        # Extract table name from the filename (remove '.csv')\n",
    "        table_name = os.path.splitext(filename)[0]\n",
    "\n",
    "        # Import the DataFrame into the SQLite database\n",
    "        df.to_sql(table_name, conn, if_exists='replace', index=False)\n",
    "\n",
    "# Close the connection\n",
    "conn.close()\n"
   ]
  },
  {
   "cell_type": "raw",
   "metadata": {},
   "source": [
    "# Import the sqlite3 module\n",
    "import sqlite3\n",
    "import pandas as pd\n",
    "\n",
    "# Connect to the SQLite database\n",
    "# Replace '1st.db' with the full path to your database file if it's not in the same directory\n",
    "conn = sqlite3.connect('1st.db')\n",
    "\n",
    "# Create a cursor object\n",
    "cursor = conn.cursor()"
   ]
  },
  {
   "cell_type": "raw",
   "metadata": {},
   "source": [
    "# Connect to the SQLite database\n",
    "conn = sqlite3.connect('1st.db')\n",
    "\n",
    "# Read the CSV file into a pandas DataFrame\n",
    "countries_df = pd.read_csv('countries.csv')\n",
    "populations_df = pd.read_csv('populations.csv')\n",
    "\n",
    "# Import the DataFrame into the SQLite database\n",
    "# If the tables don't exist, they will be created\n",
    "countries_df.to_sql('countries', conn, if_exists='replace', index=False)\n",
    "populations_df.to_sql('populations', conn, if_exists='replace', index=False)\n",
    "\n",
    "# Close the connection\n",
    "conn.close()\n"
   ]
  },
  {
   "cell_type": "code",
   "execution_count": 3,
   "metadata": {},
   "outputs": [],
   "source": [
    "# Load the SQL extension\n",
    "%load_ext sql\n",
    "\n",
    "# Connect to your SQLite database\n",
    "%sql sqlite:///1st.db"
   ]
  },
  {
   "cell_type": "markdown",
   "metadata": {},
   "source": [
    "Suppose you are interested in the relationship between fertility and unemployment rates. Your task in this exercise is to join tables to return the country name, year, fertility rate, and unemployment rate in a single result from the countries, populations and economies tables."
   ]
  },
  {
   "cell_type": "code",
   "execution_count": 14,
   "metadata": {},
   "outputs": [
    {
     "name": "stdout",
     "output_type": "stream",
     "text": [
      " * sqlite:///1st.db\n",
      "Done.\n"
     ]
    },
    {
     "data": {
      "text/html": [
       "<table>\n",
       "    <tr>\n",
       "        <th>country_name</th>\n",
       "        <th>year</th>\n",
       "        <th>fertility_rate</th>\n",
       "    </tr>\n",
       "    <tr>\n",
       "        <td>Afghanistan</td>\n",
       "        <td>2010</td>\n",
       "        <td>5.746</td>\n",
       "    </tr>\n",
       "    <tr>\n",
       "        <td>Afghanistan</td>\n",
       "        <td>2015</td>\n",
       "        <td>4.653</td>\n",
       "    </tr>\n",
       "    <tr>\n",
       "        <td>Netherlands</td>\n",
       "        <td>2010</td>\n",
       "        <td>1.79</td>\n",
       "    </tr>\n",
       "    <tr>\n",
       "        <td>Netherlands</td>\n",
       "        <td>2015</td>\n",
       "        <td>1.71</td>\n",
       "    </tr>\n",
       "    <tr>\n",
       "        <td>Albania</td>\n",
       "        <td>2010</td>\n",
       "        <td>1.663</td>\n",
       "    </tr>\n",
       "</table>"
      ],
      "text/plain": [
       "[('Afghanistan', 2010, 5.746),\n",
       " ('Afghanistan', 2015, 4.653),\n",
       " ('Netherlands', 2010, 1.79),\n",
       " ('Netherlands', 2015, 1.71),\n",
       " ('Albania', 2010, 1.663)]"
      ]
     },
     "execution_count": 14,
     "metadata": {},
     "output_type": "execute_result"
    }
   ],
   "source": [
    "%%sql\n",
    "SELECT country_name,year,fertility_rate FROM countries AS c\n",
    "INNER JOIN populations as p\n",
    "ON c.code=p.country_code\n",
    "LIMIT 5;"
   ]
  },
  {
   "cell_type": "code",
   "execution_count": 21,
   "metadata": {},
   "outputs": [
    {
     "name": "stdout",
     "output_type": "stream",
     "text": [
      " * sqlite:///1st.db\n",
      "Done.\n"
     ]
    },
    {
     "data": {
      "text/html": [
       "<table>\n",
       "    <tr>\n",
       "        <th>country_name</th>\n",
       "        <th>year</th>\n",
       "        <th>fertility_rate</th>\n",
       "        <th>unemployment_rate</th>\n",
       "    </tr>\n",
       "    <tr>\n",
       "        <td>Afghanistan</td>\n",
       "        <td>2010</td>\n",
       "        <td>4.653</td>\n",
       "        <td>None</td>\n",
       "    </tr>\n",
       "    <tr>\n",
       "        <td>Afghanistan</td>\n",
       "        <td>2015</td>\n",
       "        <td>4.653</td>\n",
       "        <td>None</td>\n",
       "    </tr>\n",
       "    <tr>\n",
       "        <td>Afghanistan</td>\n",
       "        <td>2010</td>\n",
       "        <td>5.746</td>\n",
       "        <td>None</td>\n",
       "    </tr>\n",
       "    <tr>\n",
       "        <td>Afghanistan</td>\n",
       "        <td>2015</td>\n",
       "        <td>5.746</td>\n",
       "        <td>None</td>\n",
       "    </tr>\n",
       "</table>"
      ],
      "text/plain": [
       "[('Afghanistan', 2010, 4.653, None),\n",
       " ('Afghanistan', 2015, 4.653, None),\n",
       " ('Afghanistan', 2010, 5.746, None),\n",
       " ('Afghanistan', 2015, 5.746, None)]"
      ]
     },
     "execution_count": 21,
     "metadata": {},
     "output_type": "execute_result"
    }
   ],
   "source": [
    "%%sql\n",
    "SELECT country_name, e.year, fertility_rate, unemployment_rate\n",
    "FROM countries AS c\n",
    "INNER JOIN populations AS p\n",
    "ON c.code = p.country_code\n",
    "INNER JOIN economies AS e\n",
    "-- Match on country code\n",
    "ON c.code = e.code\n",
    "limit 4;"
   ]
  },
  {
   "cell_type": "markdown",
   "metadata": {},
   "source": [
    "# Semi join\n",
    "\n",
    "Let's say you are interested in identifying languages spoken in the Middle East. The languages table contains information about languages and countries, but it does not tell you what region the countries belong to. You can build up a semi join by filtering the countries table by a particular region, and then using this to further filter the languages table.\n",
    "\n"
   ]
  },
  {
   "cell_type": "code",
   "execution_count": 23,
   "metadata": {},
   "outputs": [
    {
     "name": "stdout",
     "output_type": "stream",
     "text": [
      " * sqlite:///1st.db\n",
      "Done.\n"
     ]
    },
    {
     "data": {
      "text/html": [
       "<table>\n",
       "    <tr>\n",
       "        <th>code</th>\n",
       "    </tr>\n",
       "    <tr>\n",
       "        <td>ARE</td>\n",
       "    </tr>\n",
       "    <tr>\n",
       "        <td>ARM</td>\n",
       "    </tr>\n",
       "    <tr>\n",
       "        <td>AZE</td>\n",
       "    </tr>\n",
       "</table>"
      ],
      "text/plain": [
       "[('ARE',), ('ARM',), ('AZE',)]"
      ]
     },
     "execution_count": 23,
     "metadata": {},
     "output_type": "execute_result"
    }
   ],
   "source": [
    "%%sql\n",
    "/* Select country code for countries in the Middle East */\n",
    "SELECT code\n",
    "FROM countries\n",
    "WHERE region = 'Middle East'\n",
    "LIMIT 3;"
   ]
  },
  {
   "cell_type": "markdown",
   "metadata": {},
   "source": [
    "Create a semi join out of the two queries you've written, which filters unique languages returned in the first query for only those languages spoken in the 'Middle East'."
   ]
  },
  {
   "cell_type": "code",
   "execution_count": 26,
   "metadata": {},
   "outputs": [
    {
     "name": "stdout",
     "output_type": "stream",
     "text": [
      " * sqlite:///1st.db\n",
      "Done.\n"
     ]
    },
    {
     "data": {
      "text/html": [
       "<table>\n",
       "    <tr>\n",
       "        <th>name</th>\n",
       "    </tr>\n",
       "    <tr>\n",
       "        <td>Arabic</td>\n",
       "    </tr>\n",
       "    <tr>\n",
       "        <td>Aramaic</td>\n",
       "    </tr>\n",
       "    <tr>\n",
       "        <td>Armenian</td>\n",
       "    </tr>\n",
       "</table>"
      ],
      "text/plain": [
       "[('Arabic',), ('Aramaic',), ('Armenian',)]"
      ]
     },
     "execution_count": 26,
     "metadata": {},
     "output_type": "execute_result"
    }
   ],
   "source": [
    "%%sql\n",
    "SELECT DISTINCT name\n",
    "FROM languages\n",
    "/* Add syntax to use bracketed subquery below as a filter */\n",
    "WHERE code IN\n",
    "    (SELECT code\n",
    "    FROM countries\n",
    "    WHERE region = 'Middle East')\n",
    "ORDER BY name\n",
    "LIMIT 3;"
   ]
  },
  {
   "cell_type": "markdown",
   "metadata": {},
   "source": [
    "# Subquery challenge\n",
    "\n",
    "Suppose you're interested in analyzing inflation and unemployment rate for certain countries in 2015. You are not interested in countries with \"Republic\" or \"Monarchy\" as their form of government, but are interested in all other forms of government, such as emirate federations, socialist states, and commonwealths.\n",
    "\n",
    "You will use the field gov_form to filter for these two conditions, which represents a country's form of government. You can review the different entries for gov_form in the countries table."
   ]
  },
  {
   "cell_type": "code",
   "execution_count": 33,
   "metadata": {},
   "outputs": [
    {
     "name": "stdout",
     "output_type": "stream",
     "text": [
      " * sqlite:///1st.db\n",
      "Done.\n"
     ]
    },
    {
     "data": {
      "text/html": [
       "<table>\n",
       "    <tr>\n",
       "        <th>code</th>\n",
       "        <th>inflation_rate</th>\n",
       "        <th>unemployment_rate</th>\n",
       "    </tr>\n",
       "    <tr>\n",
       "        <td>AFG</td>\n",
       "        <td>-1.549</td>\n",
       "        <td>None</td>\n",
       "    </tr>\n",
       "    <tr>\n",
       "        <td>CHE</td>\n",
       "        <td>-1.14</td>\n",
       "        <td>3.178</td>\n",
       "    </tr>\n",
       "    <tr>\n",
       "        <td>PRI</td>\n",
       "        <td>-0.751</td>\n",
       "        <td>12.0</td>\n",
       "    </tr>\n",
       "    <tr>\n",
       "        <td>ROU</td>\n",
       "        <td>-0.596</td>\n",
       "        <td>6.812</td>\n",
       "    </tr>\n",
       "    <tr>\n",
       "        <td>TLS</td>\n",
       "        <td>0.553</td>\n",
       "        <td>None</td>\n",
       "    </tr>\n",
       "    <tr>\n",
       "        <td>MNE</td>\n",
       "        <td>1.204</td>\n",
       "        <td>None</td>\n",
       "    </tr>\n",
       "    <tr>\n",
       "        <td>SRB</td>\n",
       "        <td>1.392</td>\n",
       "        <td>18.2</td>\n",
       "    </tr>\n",
       "    <tr>\n",
       "        <td>HKG</td>\n",
       "        <td>3.037</td>\n",
       "        <td>3.296</td>\n",
       "    </tr>\n",
       "    <tr>\n",
       "        <td>ARE</td>\n",
       "        <td>4.07</td>\n",
       "        <td>None</td>\n",
       "    </tr>\n",
       "    <tr>\n",
       "        <td>MAC</td>\n",
       "        <td>4.564</td>\n",
       "        <td>1.825</td>\n",
       "    </tr>\n",
       "    <tr>\n",
       "        <td>LBY</td>\n",
       "        <td>9.839</td>\n",
       "        <td>None</td>\n",
       "    </tr>\n",
       "    <tr>\n",
       "        <td>SSD</td>\n",
       "        <td>52.813</td>\n",
       "        <td>None</td>\n",
       "    </tr>\n",
       "</table>"
      ],
      "text/plain": [
       "[('AFG', -1.549, None),\n",
       " ('CHE', -1.14, 3.178),\n",
       " ('PRI', -0.751, 12.0),\n",
       " ('ROU', -0.596, 6.812),\n",
       " ('TLS', 0.553, None),\n",
       " ('MNE', 1.204, None),\n",
       " ('SRB', 1.392, 18.2),\n",
       " ('HKG', 3.037, 3.296),\n",
       " ('ARE', 4.07, None),\n",
       " ('MAC', 4.564, 1.825),\n",
       " ('LBY', 9.839, None),\n",
       " ('SSD', 52.813, None)]"
      ]
     },
     "execution_count": 33,
     "metadata": {},
     "output_type": "execute_result"
    }
   ],
   "source": [
    "%%sql\n",
    "SELECT code, inflation_rate, unemployment_rate\n",
    "FROM economies\n",
    "WHERE year = 2015 \n",
    "  AND code NOT IN\n",
    "/* Subquery returning country codes filtered on gov_form */\n",
    "    (SELECT code\n",
    "     FROM countries\n",
    "     WHERE (gov_form LIKE '%Monarchy%' OR gov_form LIKE '%Republic%'))\n",
    "ORDER BY inflation_rate;"
   ]
  },
  {
   "cell_type": "markdown",
   "metadata": {},
   "source": [
    "# Challenge Program\n",
    "Your task is to determine the top 10 capital cities in Europe and the Americas by city_perc, a metric you'll calculate. city_perc is a percentage that calculates the \"proper\" population in a city as a percentage of the total population in the wider metro area, as follows:\n",
    "\n",
    "city_proper_pop / metroarea_pop * 100"
   ]
  },
  {
   "cell_type": "code",
   "execution_count": 34,
   "metadata": {},
   "outputs": [
    {
     "name": "stdout",
     "output_type": "stream",
     "text": [
      " * sqlite:///1st.db\n",
      "Done.\n"
     ]
    },
    {
     "data": {
      "text/html": [
       "<table>\n",
       "    <tr>\n",
       "        <th>name</th>\n",
       "        <th>country_code</th>\n",
       "        <th>city_proper_pop</th>\n",
       "        <th>metroarea_pop</th>\n",
       "        <th>city_perc</th>\n",
       "    </tr>\n",
       "    <tr>\n",
       "        <td>Lima</td>\n",
       "        <td>PER</td>\n",
       "        <td>8852000</td>\n",
       "        <td>10750000.0</td>\n",
       "        <td>82.34418604651162</td>\n",
       "    </tr>\n",
       "    <tr>\n",
       "        <td>Bogota</td>\n",
       "        <td>COL</td>\n",
       "        <td>7878783</td>\n",
       "        <td>9800000.0</td>\n",
       "        <td>80.39574489795919</td>\n",
       "    </tr>\n",
       "    <tr>\n",
       "        <td>Moscow</td>\n",
       "        <td>RUS</td>\n",
       "        <td>12197596</td>\n",
       "        <td>16170000.0</td>\n",
       "        <td>75.43349412492269</td>\n",
       "    </tr>\n",
       "    <tr>\n",
       "        <td>Vienna</td>\n",
       "        <td>AUT</td>\n",
       "        <td>1863881</td>\n",
       "        <td>2600000.0</td>\n",
       "        <td>71.68773076923077</td>\n",
       "    </tr>\n",
       "    <tr>\n",
       "        <td>Montevideo</td>\n",
       "        <td>URY</td>\n",
       "        <td>1305082</td>\n",
       "        <td>1947604.0</td>\n",
       "        <td>67.00961797162051</td>\n",
       "    </tr>\n",
       "    <tr>\n",
       "        <td>Caracas</td>\n",
       "        <td>VEN</td>\n",
       "        <td>1943901</td>\n",
       "        <td>2923959.0</td>\n",
       "        <td>66.48181455348724</td>\n",
       "    </tr>\n",
       "    <tr>\n",
       "        <td>Rome</td>\n",
       "        <td>ITA</td>\n",
       "        <td>2877215</td>\n",
       "        <td>4353775.0</td>\n",
       "        <td>66.08552348249508</td>\n",
       "    </tr>\n",
       "    <tr>\n",
       "        <td>Brasilia</td>\n",
       "        <td>BRA</td>\n",
       "        <td>2556149</td>\n",
       "        <td>3919864.0</td>\n",
       "        <td>65.21014504584853</td>\n",
       "    </tr>\n",
       "    <tr>\n",
       "        <td>London</td>\n",
       "        <td>GBR</td>\n",
       "        <td>8673713</td>\n",
       "        <td>13879757.0</td>\n",
       "        <td>62.491821722815466</td>\n",
       "    </tr>\n",
       "    <tr>\n",
       "        <td>Budapest</td>\n",
       "        <td>HUN</td>\n",
       "        <td>1759407</td>\n",
       "        <td>2927944.0</td>\n",
       "        <td>60.09018615110126</td>\n",
       "    </tr>\n",
       "</table>"
      ],
      "text/plain": [
       "[('Lima', 'PER', 8852000, 10750000.0, 82.34418604651162),\n",
       " ('Bogota', 'COL', 7878783, 9800000.0, 80.39574489795919),\n",
       " ('Moscow', 'RUS', 12197596, 16170000.0, 75.43349412492269),\n",
       " ('Vienna', 'AUT', 1863881, 2600000.0, 71.68773076923077),\n",
       " ('Montevideo', 'URY', 1305082, 1947604.0, 67.00961797162051),\n",
       " ('Caracas', 'VEN', 1943901, 2923959.0, 66.48181455348724),\n",
       " ('Rome', 'ITA', 2877215, 4353775.0, 66.08552348249508),\n",
       " ('Brasilia', 'BRA', 2556149, 3919864.0, 65.21014504584853),\n",
       " ('London', 'GBR', 8673713, 13879757.0, 62.491821722815466),\n",
       " ('Budapest', 'HUN', 1759407, 2927944.0, 60.09018615110126)]"
      ]
     },
     "execution_count": 34,
     "metadata": {},
     "output_type": "execute_result"
    }
   ],
   "source": [
    "%%sql\n",
    "SELECT \n",
    "\tname, \n",
    "    country_code, \n",
    "    city_proper_pop, \n",
    "    metroarea_pop,\n",
    "    city_proper_pop / metroarea_pop * 100 AS city_perc\n",
    "FROM cities\n",
    "WHERE name IN\n",
    "  (SELECT capital\n",
    "   FROM countries\n",
    "   WHERE (continent = 'Europe'\n",
    "   OR continent LIKE '%America'))\n",
    "-- Add filter condition such that metroarea_pop does not have null values\n",
    "\t  AND metroarea_pop IS NOT NULL\n",
    "-- Sort and limit the result\n",
    "ORDER BY city_perc DESC\n",
    "LIMIT 10;"
   ]
  },
  {
   "cell_type": "code",
   "execution_count": null,
   "metadata": {},
   "outputs": [],
   "source": []
  }
 ],
 "metadata": {
  "kernelspec": {
   "display_name": "Python 3 (ipykernel)",
   "language": "python",
   "name": "python3"
  },
  "language_info": {
   "codemirror_mode": {
    "name": "ipython",
    "version": 3
   },
   "file_extension": ".py",
   "mimetype": "text/x-python",
   "name": "python",
   "nbconvert_exporter": "python",
   "pygments_lexer": "ipython3",
   "version": "3.7.7"
  }
 },
 "nbformat": 4,
 "nbformat_minor": 4
}
