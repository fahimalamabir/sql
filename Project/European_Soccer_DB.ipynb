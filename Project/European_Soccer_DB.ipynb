{
 "cells": [
  {
   "cell_type": "code",
   "execution_count": 1,
   "metadata": {},
   "outputs": [],
   "source": [
    "import pandas as pd\n",
    "import sqlite3\n",
    "\n",
    "# Connect to the SQLite database\n",
    "conn = sqlite3.connect('database.sqlite')\n",
    "\n",
    "# Get the list of all tables in the database\n",
    "tables_query = \"SELECT name FROM sqlite_master WHERE type='table';\"\n",
    "tables = pd.read_sql(tables_query, conn)['name'].tolist()\n",
    "\n",
    "# Dictionary to hold dataframes\n",
    "dfs = {}\n",
    "\n",
    "# Read each table into a dataframe and store it in the dictionary\n",
    "for table in tables:\n",
    "    query = f\"SELECT * FROM {table};\"\n",
    "    dfs[table] = pd.read_sql(query, conn)\n",
    "\n",
    "# Close the connection\n",
    "conn.close()"
   ]
  },
  {
   "cell_type": "code",
   "execution_count": 2,
   "metadata": {},
   "outputs": [],
   "source": [
    "%load_ext sql\n",
    "%sql sqlite:///database.sqlite"
   ]
  },
  {
   "cell_type": "markdown",
   "metadata": {},
   "source": [
    "Let's list all the tables from the database."
   ]
  },
  {
   "cell_type": "code",
   "execution_count": 3,
   "metadata": {},
   "outputs": [
    {
     "name": "stdout",
     "output_type": "stream",
     "text": [
      " * sqlite:///database.sqlite\n",
      "Done.\n"
     ]
    },
    {
     "data": {
      "text/html": [
       "<table>\n",
       "    <tr>\n",
       "        <th>name</th>\n",
       "    </tr>\n",
       "    <tr>\n",
       "        <td>sqlite_sequence</td>\n",
       "    </tr>\n",
       "    <tr>\n",
       "        <td>Player_Attributes</td>\n",
       "    </tr>\n",
       "    <tr>\n",
       "        <td>Player</td>\n",
       "    </tr>\n",
       "    <tr>\n",
       "        <td>Match</td>\n",
       "    </tr>\n",
       "    <tr>\n",
       "        <td>League</td>\n",
       "    </tr>\n",
       "    <tr>\n",
       "        <td>Country</td>\n",
       "    </tr>\n",
       "    <tr>\n",
       "        <td>Team</td>\n",
       "    </tr>\n",
       "    <tr>\n",
       "        <td>Team_Attributes</td>\n",
       "    </tr>\n",
       "</table>"
      ],
      "text/plain": [
       "[('sqlite_sequence',),\n",
       " ('Player_Attributes',),\n",
       " ('Player',),\n",
       " ('Match',),\n",
       " ('League',),\n",
       " ('Country',),\n",
       " ('Team',),\n",
       " ('Team_Attributes',)]"
      ]
     },
     "execution_count": 3,
     "metadata": {},
     "output_type": "execute_result"
    }
   ],
   "source": [
    "%%sql\n",
    "SELECT name FROM sqlite_master WHERE type='table';"
   ]
  },
  {
   "cell_type": "markdown",
   "metadata": {},
   "source": [
    "Task 1: How many leagues in the dataset?"
   ]
  },
  {
   "cell_type": "code",
   "execution_count": 6,
   "metadata": {},
   "outputs": [
    {
     "name": "stdout",
     "output_type": "stream",
     "text": [
      " * sqlite:///database.sqlite\n",
      "Done.\n"
     ]
    },
    {
     "data": {
      "text/html": [
       "<table>\n",
       "    <tr>\n",
       "        <th>COUNT(name)</th>\n",
       "    </tr>\n",
       "    <tr>\n",
       "        <td>11</td>\n",
       "    </tr>\n",
       "</table>"
      ],
      "text/plain": [
       "[(11,)]"
      ]
     },
     "execution_count": 6,
     "metadata": {},
     "output_type": "execute_result"
    }
   ],
   "source": [
    "%%sql\n",
    "SELECT COUNT(name) FROM League;"
   ]
  },
  {
   "cell_type": "markdown",
   "metadata": {},
   "source": [
    "Task 2: How many matches played in the league?"
   ]
  },
  {
   "cell_type": "code",
   "execution_count": 7,
   "metadata": {},
   "outputs": [
    {
     "name": "stdout",
     "output_type": "stream",
     "text": [
      " * sqlite:///database.sqlite\n",
      "Done.\n"
     ]
    },
    {
     "data": {
      "text/html": [
       "<table>\n",
       "    <tr>\n",
       "        <th>league</th>\n",
       "        <th>total_matches</th>\n",
       "    </tr>\n",
       "    <tr>\n",
       "        <td>Belgium Jupiler League</td>\n",
       "        <td>1728</td>\n",
       "    </tr>\n",
       "    <tr>\n",
       "        <td>England Premier League</td>\n",
       "        <td>3040</td>\n",
       "    </tr>\n",
       "    <tr>\n",
       "        <td>France Ligue 1</td>\n",
       "        <td>3040</td>\n",
       "    </tr>\n",
       "    <tr>\n",
       "        <td>Germany 1. Bundesliga</td>\n",
       "        <td>2448</td>\n",
       "    </tr>\n",
       "    <tr>\n",
       "        <td>Italy Serie A</td>\n",
       "        <td>3017</td>\n",
       "    </tr>\n",
       "    <tr>\n",
       "        <td>Netherlands Eredivisie</td>\n",
       "        <td>2448</td>\n",
       "    </tr>\n",
       "    <tr>\n",
       "        <td>Poland Ekstraklasa</td>\n",
       "        <td>1920</td>\n",
       "    </tr>\n",
       "    <tr>\n",
       "        <td>Portugal Liga ZON Sagres</td>\n",
       "        <td>2052</td>\n",
       "    </tr>\n",
       "    <tr>\n",
       "        <td>Scotland Premier League</td>\n",
       "        <td>1824</td>\n",
       "    </tr>\n",
       "    <tr>\n",
       "        <td>Spain LIGA BBVA</td>\n",
       "        <td>3040</td>\n",
       "    </tr>\n",
       "    <tr>\n",
       "        <td>Switzerland Super League</td>\n",
       "        <td>1422</td>\n",
       "    </tr>\n",
       "</table>"
      ],
      "text/plain": [
       "[('Belgium Jupiler League', 1728),\n",
       " ('England Premier League', 3040),\n",
       " ('France Ligue 1', 3040),\n",
       " ('Germany 1. Bundesliga', 2448),\n",
       " ('Italy Serie A', 3017),\n",
       " ('Netherlands Eredivisie', 2448),\n",
       " ('Poland Ekstraklasa', 1920),\n",
       " ('Portugal Liga ZON Sagres', 2052),\n",
       " ('Scotland Premier League', 1824),\n",
       " ('Spain LIGA BBVA', 3040),\n",
       " ('Switzerland Super League', 1422)]"
      ]
     },
     "execution_count": 7,
     "metadata": {},
     "output_type": "execute_result"
    }
   ],
   "source": [
    "%%sql\n",
    "SELECT\n",
    "    l.name AS league,\n",
    "    COUNT(m.country_id) as total_matches\n",
    "FROM League AS l\n",
    "LEFT JOIN match AS m\n",
    "ON l.country_id = m.country_id\n",
    "GROUP BY l.name;"
   ]
  },
  {
   "cell_type": "markdown",
   "metadata": {},
   "source": [
    "Task 3: Find out the results in 2013-14 season."
   ]
  },
  {
   "cell_type": "code",
   "execution_count": 20,
   "metadata": {},
   "outputs": [
    {
     "name": "stdout",
     "output_type": "stream",
     "text": [
      " * sqlite:///database.sqlite\n",
      "Done.\n"
     ]
    },
    {
     "data": {
      "text/html": [
       "<table>\n",
       "    <tr>\n",
       "        <th>id</th>\n",
       "        <th>country_id</th>\n",
       "        <th>league_id</th>\n",
       "        <th>season</th>\n",
       "        <th>stage</th>\n",
       "        <th>date</th>\n",
       "        <th>match_api_id</th>\n",
       "        <th>home_team_api_id</th>\n",
       "        <th>away_team_api_id</th>\n",
       "        <th>home_team_goal</th>\n",
       "        <th>away_team_goal</th>\n",
       "        <th>home_player_X1</th>\n",
       "        <th>home_player_X2</th>\n",
       "        <th>home_player_X3</th>\n",
       "        <th>home_player_X4</th>\n",
       "        <th>home_player_X5</th>\n",
       "        <th>home_player_X6</th>\n",
       "        <th>home_player_X7</th>\n",
       "        <th>home_player_X8</th>\n",
       "        <th>home_player_X9</th>\n",
       "        <th>home_player_X10</th>\n",
       "        <th>home_player_X11</th>\n",
       "        <th>away_player_X1</th>\n",
       "        <th>away_player_X2</th>\n",
       "        <th>away_player_X3</th>\n",
       "        <th>away_player_X4</th>\n",
       "        <th>away_player_X5</th>\n",
       "        <th>away_player_X6</th>\n",
       "        <th>away_player_X7</th>\n",
       "        <th>away_player_X8</th>\n",
       "        <th>away_player_X9</th>\n",
       "        <th>away_player_X10</th>\n",
       "        <th>away_player_X11</th>\n",
       "        <th>home_player_Y1</th>\n",
       "        <th>home_player_Y2</th>\n",
       "        <th>home_player_Y3</th>\n",
       "        <th>home_player_Y4</th>\n",
       "        <th>home_player_Y5</th>\n",
       "        <th>home_player_Y6</th>\n",
       "        <th>home_player_Y7</th>\n",
       "        <th>home_player_Y8</th>\n",
       "        <th>home_player_Y9</th>\n",
       "        <th>home_player_Y10</th>\n",
       "        <th>home_player_Y11</th>\n",
       "        <th>away_player_Y1</th>\n",
       "        <th>away_player_Y2</th>\n",
       "        <th>away_player_Y3</th>\n",
       "        <th>away_player_Y4</th>\n",
       "        <th>away_player_Y5</th>\n",
       "        <th>away_player_Y6</th>\n",
       "        <th>away_player_Y7</th>\n",
       "        <th>away_player_Y8</th>\n",
       "        <th>away_player_Y9</th>\n",
       "        <th>away_player_Y10</th>\n",
       "        <th>away_player_Y11</th>\n",
       "        <th>home_player_1</th>\n",
       "        <th>home_player_2</th>\n",
       "        <th>home_player_3</th>\n",
       "        <th>home_player_4</th>\n",
       "        <th>home_player_5</th>\n",
       "        <th>home_player_6</th>\n",
       "        <th>home_player_7</th>\n",
       "        <th>home_player_8</th>\n",
       "        <th>home_player_9</th>\n",
       "        <th>home_player_10</th>\n",
       "        <th>home_player_11</th>\n",
       "        <th>away_player_1</th>\n",
       "        <th>away_player_2</th>\n",
       "        <th>away_player_3</th>\n",
       "        <th>away_player_4</th>\n",
       "        <th>away_player_5</th>\n",
       "        <th>away_player_6</th>\n",
       "        <th>away_player_7</th>\n",
       "        <th>away_player_8</th>\n",
       "        <th>away_player_9</th>\n",
       "        <th>away_player_10</th>\n",
       "        <th>away_player_11</th>\n",
       "        <th>goal</th>\n",
       "        <th>shoton</th>\n",
       "        <th>shotoff</th>\n",
       "        <th>foulcommit</th>\n",
       "        <th>card</th>\n",
       "        <th>cross</th>\n",
       "        <th>corner</th>\n",
       "        <th>possession</th>\n",
       "        <th>B365H</th>\n",
       "        <th>B365D</th>\n",
       "        <th>B365A</th>\n",
       "        <th>BWH</th>\n",
       "        <th>BWD</th>\n",
       "        <th>BWA</th>\n",
       "        <th>IWH</th>\n",
       "        <th>IWD</th>\n",
       "        <th>IWA</th>\n",
       "        <th>LBH</th>\n",
       "        <th>LBD</th>\n",
       "        <th>LBA</th>\n",
       "        <th>PSH</th>\n",
       "        <th>PSD</th>\n",
       "        <th>PSA</th>\n",
       "        <th>WHH</th>\n",
       "        <th>WHD</th>\n",
       "        <th>WHA</th>\n",
       "        <th>SJH</th>\n",
       "        <th>SJD</th>\n",
       "        <th>SJA</th>\n",
       "        <th>VCH</th>\n",
       "        <th>VCD</th>\n",
       "        <th>VCA</th>\n",
       "        <th>GBH</th>\n",
       "        <th>GBD</th>\n",
       "        <th>GBA</th>\n",
       "        <th>BSH</th>\n",
       "        <th>BSD</th>\n",
       "        <th>BSA</th>\n",
       "    </tr>\n",
       "    <tr>\n",
       "        <td>1237</td>\n",
       "        <td>1</td>\n",
       "        <td>1</td>\n",
       "        <td>2013/2014</td>\n",
       "        <td>1</td>\n",
       "        <td>2014-03-29 00:00:00</td>\n",
       "        <td>1677179</td>\n",
       "        <td>8475</td>\n",
       "        <td>9989</td>\n",
       "        <td>2</td>\n",
       "        <td>0</td>\n",
       "        <td>1</td>\n",
       "        <td>2</td>\n",
       "        <td>4</td>\n",
       "        <td>6</td>\n",
       "        <td>8</td>\n",
       "        <td>2</td>\n",
       "        <td>4</td>\n",
       "        <td>6</td>\n",
       "        <td>8</td>\n",
       "        <td>4</td>\n",
       "        <td>6</td>\n",
       "        <td>1</td>\n",
       "        <td>3</td>\n",
       "        <td>5</td>\n",
       "        <td>7</td>\n",
       "        <td>2</td>\n",
       "        <td>4</td>\n",
       "        <td>6</td>\n",
       "        <td>8</td>\n",
       "        <td>3</td>\n",
       "        <td>4</td>\n",
       "        <td>7</td>\n",
       "        <td>1</td>\n",
       "        <td>3</td>\n",
       "        <td>3</td>\n",
       "        <td>3</td>\n",
       "        <td>3</td>\n",
       "        <td>7</td>\n",
       "        <td>7</td>\n",
       "        <td>7</td>\n",
       "        <td>7</td>\n",
       "        <td>10</td>\n",
       "        <td>10</td>\n",
       "        <td>1</td>\n",
       "        <td>3</td>\n",
       "        <td>3</td>\n",
       "        <td>3</td>\n",
       "        <td>7</td>\n",
       "        <td>7</td>\n",
       "        <td>7</td>\n",
       "        <td>7</td>\n",
       "        <td>10</td>\n",
       "        <td>10</td>\n",
       "        <td>10</td>\n",
       "        <td>208699</td>\n",
       "        <td>8930</td>\n",
       "        <td>208348</td>\n",
       "        <td>26606</td>\n",
       "        <td>186621</td>\n",
       "        <td>104410</td>\n",
       "        <td>32760</td>\n",
       "        <td>37963</td>\n",
       "        <td>376780</td>\n",
       "        <td>80592</td>\n",
       "        <td>466203</td>\n",
       "        <td>38953</td>\n",
       "        <td>45485</td>\n",
       "        <td>426892</td>\n",
       "        <td>237646</td>\n",
       "        <td>512033</td>\n",
       "        <td>36863</td>\n",
       "        <td>25655</td>\n",
       "        <td>466260</td>\n",
       "        <td>513810</td>\n",
       "        <td>389202</td>\n",
       "        <td>410160</td>\n",
       "        <td>None</td>\n",
       "        <td>None</td>\n",
       "        <td>None</td>\n",
       "        <td>None</td>\n",
       "        <td>None</td>\n",
       "        <td>None</td>\n",
       "        <td>None</td>\n",
       "        <td>None</td>\n",
       "        <td>None</td>\n",
       "        <td>None</td>\n",
       "        <td>None</td>\n",
       "        <td>None</td>\n",
       "        <td>None</td>\n",
       "        <td>None</td>\n",
       "        <td>None</td>\n",
       "        <td>None</td>\n",
       "        <td>None</td>\n",
       "        <td>None</td>\n",
       "        <td>None</td>\n",
       "        <td>None</td>\n",
       "        <td>None</td>\n",
       "        <td>None</td>\n",
       "        <td>None</td>\n",
       "        <td>None</td>\n",
       "        <td>None</td>\n",
       "        <td>None</td>\n",
       "        <td>None</td>\n",
       "        <td>None</td>\n",
       "        <td>None</td>\n",
       "        <td>None</td>\n",
       "        <td>None</td>\n",
       "        <td>None</td>\n",
       "        <td>None</td>\n",
       "        <td>None</td>\n",
       "        <td>None</td>\n",
       "        <td>None</td>\n",
       "        <td>None</td>\n",
       "        <td>None</td>\n",
       "    </tr>\n",
       "</table>"
      ],
      "text/plain": [
       "[(1237, 1, 1, '2013/2014', 1, '2014-03-29 00:00:00', 1677179, 8475, 9989, 2, 0, 1, 2, 4, 6, 8, 2, 4, 6, 8, 4, 6, 1, 3, 5, 7, 2, 4, 6, 8, 3, 4, 7, 1, 3, 3, 3, 3, 7, 7, 7, 7, 10, 10, 1, 3, 3, 3, 7, 7, 7, 7, 10, 10, 10, 208699, 8930, 208348, 26606, 186621, 104410, 32760, 37963, 376780, 80592, 466203, 38953, 45485, 426892, 237646, 512033, 36863, 25655, 466260, 513810, 389202, 410160, None, None, None, None, None, None, None, None, None, None, None, None, None, None, None, None, None, None, None, None, None, None, None, None, None, None, None, None, None, None, None, None, None, None, None, None, None, None)]"
      ]
     },
     "execution_count": 20,
     "metadata": {},
     "output_type": "execute_result"
    }
   ],
   "source": [
    "%%sql\n",
    "SELECT *\n",
    "FROM Match\n",
    "WHERE Season = '2013/2014'\n",
    "LIMIT 1;"
   ]
  },
  {
   "cell_type": "code",
   "execution_count": 16,
   "metadata": {},
   "outputs": [
    {
     "name": "stdout",
     "output_type": "stream",
     "text": [
      " * sqlite:///database.sqlite\n",
      "Done.\n"
     ]
    },
    {
     "data": {
      "text/html": [
       "<table>\n",
       "    <tr>\n",
       "        <th>date</th>\n",
       "        <th>id</th>\n",
       "        <th>home_team_goal</th>\n",
       "        <th>away_team_goal</th>\n",
       "    </tr>\n",
       "    <tr>\n",
       "        <td>2014-03-29 00:00:00</td>\n",
       "        <td>1237</td>\n",
       "        <td>2</td>\n",
       "        <td>0</td>\n",
       "    </tr>\n",
       "    <tr>\n",
       "        <td>2014-03-29 00:00:00</td>\n",
       "        <td>1238</td>\n",
       "        <td>0</td>\n",
       "        <td>1</td>\n",
       "    </tr>\n",
       "    <tr>\n",
       "        <td>2014-04-05 00:00:00</td>\n",
       "        <td>1239</td>\n",
       "        <td>1</td>\n",
       "        <td>0</td>\n",
       "    </tr>\n",
       "</table>"
      ],
      "text/plain": [
       "[('2014-03-29 00:00:00', 1237, 2, 0),\n",
       " ('2014-03-29 00:00:00', 1238, 0, 1),\n",
       " ('2014-04-05 00:00:00', 1239, 1, 0)]"
      ]
     },
     "execution_count": 16,
     "metadata": {},
     "output_type": "execute_result"
    }
   ],
   "source": [
    "%%sql\n",
    "SELECT date, id, home_team_goal, away_team_goal\n",
    "FROM Match\n",
    "WHERE Season = '2013/2014'\n",
    "LIMIT 3;"
   ]
  },
  {
   "cell_type": "markdown",
   "metadata": {},
   "source": [
    "Task 4: How many times home team won in that season?"
   ]
  },
  {
   "cell_type": "code",
   "execution_count": 25,
   "metadata": {},
   "outputs": [
    {
     "name": "stdout",
     "output_type": "stream",
     "text": [
      " * sqlite:///database.sqlite\n",
      "Done.\n"
     ]
    },
    {
     "data": {
      "text/html": [
       "<table>\n",
       "    <tr>\n",
       "        <th>home_team_wins</th>\n",
       "    </tr>\n",
       "    <tr>\n",
       "        <td>1404</td>\n",
       "    </tr>\n",
       "</table>"
      ],
      "text/plain": [
       "[(1404,)]"
      ]
     },
     "execution_count": 25,
     "metadata": {},
     "output_type": "execute_result"
    }
   ],
   "source": [
    "%%sql\n",
    "SELECT COUNT(*) AS home_team_wins\n",
    "FROM Match\n",
    "WHERE Season = '2013/2014'\n",
    "AND home_team_goal > away_team_goal;"
   ]
  },
  {
   "cell_type": "markdown",
   "metadata": {},
   "source": [
    "Task 5: Make a column which shows the outcome of the match."
   ]
  },
  {
   "cell_type": "code",
   "execution_count": 31,
   "metadata": {},
   "outputs": [
    {
     "name": "stdout",
     "output_type": "stream",
     "text": [
      " * sqlite:///database.sqlite\n",
      "Done.\n"
     ]
    },
    {
     "data": {
      "text/html": [
       "<table>\n",
       "    <tr>\n",
       "        <th>date</th>\n",
       "        <th>home_team_goal</th>\n",
       "        <th>away_team_goal</th>\n",
       "        <th>Outcome</th>\n",
       "    </tr>\n",
       "    <tr>\n",
       "        <td>2014-03-29 00:00:00</td>\n",
       "        <td>2</td>\n",
       "        <td>0</td>\n",
       "        <td>HOME TEAM WINS</td>\n",
       "    </tr>\n",
       "    <tr>\n",
       "        <td>2014-03-29 00:00:00</td>\n",
       "        <td>0</td>\n",
       "        <td>1</td>\n",
       "        <td>AWAY TEAM WINS</td>\n",
       "    </tr>\n",
       "    <tr>\n",
       "        <td>2014-04-05 00:00:00</td>\n",
       "        <td>1</td>\n",
       "        <td>0</td>\n",
       "        <td>HOME TEAM WINS</td>\n",
       "    </tr>\n",
       "</table>"
      ],
      "text/plain": [
       "[('2014-03-29 00:00:00', 2, 0, 'HOME TEAM WINS'),\n",
       " ('2014-03-29 00:00:00', 0, 1, 'AWAY TEAM WINS'),\n",
       " ('2014-04-05 00:00:00', 1, 0, 'HOME TEAM WINS')]"
      ]
     },
     "execution_count": 31,
     "metadata": {},
     "output_type": "execute_result"
    }
   ],
   "source": [
    "%%sql\n",
    "SELECT date, home_team_goal, away_team_goal,\n",
    "CASE WHEN home_team_goal > away_team_goal THEN 'HOME TEAM WINS'\n",
    "     WHEN home_team_goal < away_team_goal THEN 'AWAY TEAM WINS' \n",
    "     ELSE 'TIE' END AS Outcome\n",
    "FROM Match\n",
    "WHERE Season = '2013/2014'\n",
    "LIMIT 3;"
   ]
  },
  {
   "cell_type": "markdown",
   "metadata": {},
   "source": [
    "Task 6: In this exercise, you will identify matches played between FC Schalke 04 and FC Bayern Munich. There are 2 teams identified in each match in the hometeam_id and awayteam_id columns, available to you in the filtered matches_germany table. ID can join to the team_api_id column in the teams_germany table, but you cannot perform a join on both at the same time.\n",
    "\n",
    "However, you can perform this operation using a CASE statement once you've identified the team_api_id associated with each team!\n",
    "\n"
   ]
  },
  {
   "cell_type": "code",
   "execution_count": 35,
   "metadata": {},
   "outputs": [
    {
     "name": "stdout",
     "output_type": "stream",
     "text": [
      " * sqlite:///database.sqlite\n",
      "Done.\n"
     ]
    },
    {
     "data": {
      "text/html": [
       "<table>\n",
       "    <tr>\n",
       "        <th>id</th>\n",
       "        <th>team_api_id</th>\n",
       "        <th>team_fifa_api_id</th>\n",
       "        <th>team_long_name</th>\n",
       "        <th>team_short_name</th>\n",
       "    </tr>\n",
       "    <tr>\n",
       "        <td>15617</td>\n",
       "        <td>9823</td>\n",
       "        <td>21</td>\n",
       "        <td>FC Bayern Munich</td>\n",
       "        <td>BMU</td>\n",
       "    </tr>\n",
       "    <tr>\n",
       "        <td>15621</td>\n",
       "        <td>10189</td>\n",
       "        <td>34</td>\n",
       "        <td>FC Schalke 04</td>\n",
       "        <td>S04</td>\n",
       "    </tr>\n",
       "</table>"
      ],
      "text/plain": [
       "[(15617, 9823, 21, 'FC Bayern Munich', 'BMU'),\n",
       " (15621, 10189, 34, 'FC Schalke 04', 'S04')]"
      ]
     },
     "execution_count": 35,
     "metadata": {},
     "output_type": "execute_result"
    }
   ],
   "source": [
    "%%sql\n",
    "SELECT *\n",
    "FROM Team\n",
    "WHERE team_long_name = 'FC Schalke 04' OR team_long_name = 'FC Bayern Munich'"
   ]
  },
  {
   "cell_type": "code",
   "execution_count": 37,
   "metadata": {},
   "outputs": [
    {
     "name": "stdout",
     "output_type": "stream",
     "text": [
      " * sqlite:///database.sqlite\n",
      "Done.\n"
     ]
    },
    {
     "data": {
      "text/html": [
       "<table>\n",
       "    <tr>\n",
       "        <th>team_api_id</th>\n",
       "        <th>team_long_name</th>\n",
       "    </tr>\n",
       "    <tr>\n",
       "        <td>9823</td>\n",
       "        <td>FC Bayern Munich</td>\n",
       "    </tr>\n",
       "    <tr>\n",
       "        <td>10189</td>\n",
       "        <td>FC Schalke 04</td>\n",
       "    </tr>\n",
       "</table>"
      ],
      "text/plain": [
       "[(9823, 'FC Bayern Munich'), (10189, 'FC Schalke 04')]"
      ]
     },
     "execution_count": 37,
     "metadata": {},
     "output_type": "execute_result"
    }
   ],
   "source": [
    "%%sql\n",
    "SELECT team_api_id, team_long_name\n",
    "FROM Team \n",
    "LEFT JOIN Match\n",
    "ON Team.team_api_id = Match.id\n",
    "WHERE team_long_name = 'FC Schalke 04' OR team_long_name = 'FC Bayern Munich'"
   ]
  },
  {
   "cell_type": "code",
   "execution_count": 43,
   "metadata": {},
   "outputs": [
    {
     "name": "stdout",
     "output_type": "stream",
     "text": [
      " * sqlite:///database.sqlite\n",
      "Done.\n"
     ]
    },
    {
     "data": {
      "text/html": [
       "<table>\n",
       "    <tr>\n",
       "        <th>home_team</th>\n",
       "        <th>num_matches</th>\n",
       "    </tr>\n",
       "    <tr>\n",
       "        <td>FC Bayern Munich</td>\n",
       "        <td>136</td>\n",
       "    </tr>\n",
       "    <tr>\n",
       "        <td>FC Schalke 04</td>\n",
       "        <td>136</td>\n",
       "    </tr>\n",
       "    <tr>\n",
       "        <td>Neither</td>\n",
       "        <td>2176</td>\n",
       "    </tr>\n",
       "</table>"
      ],
      "text/plain": [
       "[('FC Bayern Munich', 136), ('FC Schalke 04', 136), ('Neither', 2176)]"
      ]
     },
     "execution_count": 43,
     "metadata": {},
     "output_type": "execute_result"
    }
   ],
   "source": [
    "%%sql\n",
    "SELECT \n",
    "    CASE \n",
    "        WHEN Team.team_long_name = 'FC Bayern Munich' THEN 'FC Bayern Munich'\n",
    "        WHEN Team.team_long_name = 'FC Schalke 04' THEN 'FC Schalke 04'\n",
    "        ELSE 'Neither' \n",
    "    END AS home_team,\n",
    "    COUNT(*) AS num_matches\n",
    "FROM Match\n",
    "JOIN Team ON Match.home_team_api_id = Team.team_api_id\n",
    "WHERE Match.country_id = (SELECT id FROM Country WHERE name = 'Germany')\n",
    "GROUP BY home_team;\n"
   ]
  },
  {
   "cell_type": "markdown",
   "metadata": {},
   "source": [
    "# CASE statements comparing column values\n",
    "Barcelona is considered one of the strongest teams in Spain's soccer league.\n",
    "\n",
    "In this exercise, you will be creating a list of matches in the 2011/2012 season where Barcelona was the home team. You will do this using a CASE statement that compares the values of two columns to create a new group -- wins, losses, and ties.\n",
    "\n",
    "In 3 steps, you will build a query that identifies a match's winner, identifies the identity of the opponent, and finally filters for Barcelona as the home team. Completing a query in this order will allow you to watch your results take shape with each new piece of information.\n",
    "\n",
    "The matches_spain table currently contains Barcelona's matches from the 2011/2012 season, and has two key columns, hometeam_id and awayteam_id, that can be joined with the teams_spain table. However, you can only join teams_spain to one column at a time."
   ]
  },
  {
   "cell_type": "code",
   "execution_count": 46,
   "metadata": {},
   "outputs": [
    {
     "name": "stdout",
     "output_type": "stream",
     "text": [
      " * sqlite:///database.sqlite\n",
      "Done.\n"
     ]
    },
    {
     "data": {
      "text/html": [
       "<table>\n",
       "    <tr>\n",
       "        <th>date</th>\n",
       "        <th>outcome</th>\n",
       "    </tr>\n",
       "    <tr>\n",
       "        <td>2008-08-15 00:00:00</td>\n",
       "        <td>Tie</td>\n",
       "    </tr>\n",
       "    <tr>\n",
       "        <td>2008-08-16 00:00:00</td>\n",
       "        <td>Home loss :(</td>\n",
       "    </tr>\n",
       "    <tr>\n",
       "        <td>2008-08-16 00:00:00</td>\n",
       "        <td>Home win!</td>\n",
       "    </tr>\n",
       "    <tr>\n",
       "        <td>2008-08-16 00:00:00</td>\n",
       "        <td>Home win!</td>\n",
       "    </tr>\n",
       "</table>"
      ],
      "text/plain": [
       "[('2008-08-15 00:00:00', 'Tie'),\n",
       " ('2008-08-16 00:00:00', 'Home loss :('),\n",
       " ('2008-08-16 00:00:00', 'Home win!'),\n",
       " ('2008-08-16 00:00:00', 'Home win!')]"
      ]
     },
     "execution_count": 46,
     "metadata": {},
     "output_type": "execute_result"
    }
   ],
   "source": [
    "%%sql\n",
    "/* step 1 */\n",
    "SELECT \n",
    "/* Select the date of the match */\n",
    "date,\n",
    "    /* Identify home wins, losses, or ties */\n",
    "CASE WHEN home_team_goal > away_team_goal THEN 'Home win!'\n",
    "     WHEN home_team_goal < away_team_goal THEN 'Home loss :(' \n",
    "     ELSE 'Tie' END AS outcome\n",
    "FROM Match\n",
    "WHERE Match.country_id = (SELECT id FROM Country WHERE name = 'Germany')\n",
    "LIMIT 4;"
   ]
  },
  {
   "cell_type": "code",
   "execution_count": 63,
   "metadata": {},
   "outputs": [
    {
     "name": "stdout",
     "output_type": "stream",
     "text": [
      " * sqlite:///database.sqlite\n",
      "Done.\n"
     ]
    },
    {
     "data": {
      "text/html": [
       "<table>\n",
       "    <tr>\n",
       "        <th>date</th>\n",
       "        <th>opponent</th>\n",
       "        <th>outcome</th>\n",
       "    </tr>\n",
       "    <tr>\n",
       "        <td>2008-08-30 00:00:00</td>\n",
       "        <td>RCD Mallorca</td>\n",
       "        <td>Home win!</td>\n",
       "    </tr>\n",
       "    <tr>\n",
       "        <td>2008-08-31 00:00:00</td>\n",
       "        <td>Villarreal CF</td>\n",
       "        <td>Tie</td>\n",
       "    </tr>\n",
       "    <tr>\n",
       "        <td>2008-08-31 00:00:00</td>\n",
       "        <td>Real Madrid CF</td>\n",
       "        <td>Home win!</td>\n",
       "    </tr>\n",
       "    <tr>\n",
       "        <td>2008-08-31 00:00:00</td>\n",
       "        <td>FC Barcelona</td>\n",
       "        <td>Home win!</td>\n",
       "    </tr>\n",
       "    <tr>\n",
       "        <td>2008-08-31 00:00:00</td>\n",
       "        <td>Sevilla FC</td>\n",
       "        <td>Tie</td>\n",
       "    </tr>\n",
       "</table>"
      ],
      "text/plain": [
       "[('2008-08-30 00:00:00', 'RCD Mallorca', 'Home win!'),\n",
       " ('2008-08-31 00:00:00', 'Villarreal CF', 'Tie'),\n",
       " ('2008-08-31 00:00:00', 'Real Madrid CF', 'Home win!'),\n",
       " ('2008-08-31 00:00:00', 'FC Barcelona', 'Home win!'),\n",
       " ('2008-08-31 00:00:00', 'Sevilla FC', 'Tie')]"
      ]
     },
     "execution_count": 63,
     "metadata": {},
     "output_type": "execute_result"
    }
   ],
   "source": [
    "%%sql\n",
    "/* Left join the teams_spain table team_api_id column to the matches_spain table awayteam_id. This allows us to retrieve the away team's identity.\n",
    "Select team_long_name from teams_spain as opponent and complete the CASE statement from Step 1. */\n",
    "\n",
    "SELECT \n",
    "    m.date,\n",
    "    t.team_long_name AS opponent,\n",
    "    CASE \n",
    "        WHEN m.home_team_goal > m.away_team_goal THEN 'Home win!'\n",
    "        WHEN m.home_team_goal < m.away_team_goal THEN 'Home loss :('\n",
    "        ELSE 'Tie' \n",
    "    END AS outcome\n",
    "FROM Match AS m\n",
    "LEFT JOIN Team AS t ON m.away_team_api_id = t.team_api_id\n",
    "WHERE m.country_id = (SELECT id FROM Country WHERE name = 'Spain')\n",
    "LIMIT 5;"
   ]
  },
  {
   "cell_type": "code",
   "execution_count": 69,
   "metadata": {},
   "outputs": [
    {
     "name": "stdout",
     "output_type": "stream",
     "text": [
      " * sqlite:///database.sqlite\n",
      "Done.\n"
     ]
    },
    {
     "data": {
      "text/html": [
       "<table>\n",
       "    <tr>\n",
       "        <th>date</th>\n",
       "        <th>opponent</th>\n",
       "        <th>outcome</th>\n",
       "    </tr>\n",
       "    <tr>\n",
       "        <td>2008-11-08 00:00:00</td>\n",
       "        <td>Real Valladolid</td>\n",
       "        <td>Barcelona win!</td>\n",
       "    </tr>\n",
       "    <tr>\n",
       "        <td>2008-11-23 00:00:00</td>\n",
       "        <td>Getafe CF</td>\n",
       "        <td>Tie</td>\n",
       "    </tr>\n",
       "    <tr>\n",
       "        <td>2008-12-06 00:00:00</td>\n",
       "        <td>Valencia CF</td>\n",
       "        <td>Barcelona win!</td>\n",
       "    </tr>\n",
       "    <tr>\n",
       "        <td>2008-12-13 00:00:00</td>\n",
       "        <td>Real Madrid CF</td>\n",
       "        <td>Barcelona win!</td>\n",
       "    </tr>\n",
       "</table>"
      ],
      "text/plain": [
       "[('2008-11-08 00:00:00', 'Real Valladolid', 'Barcelona win!'),\n",
       " ('2008-11-23 00:00:00', 'Getafe CF', 'Tie'),\n",
       " ('2008-12-06 00:00:00', 'Valencia CF', 'Barcelona win!'),\n",
       " ('2008-12-13 00:00:00', 'Real Madrid CF', 'Barcelona win!')]"
      ]
     },
     "execution_count": 69,
     "metadata": {},
     "output_type": "execute_result"
    }
   ],
   "source": [
    "%%sql\n",
    "/* Filter for matches where the home team is FC Barcelona (id = 8634). */\n",
    "SELECT \n",
    "    m.date,\n",
    "    t.team_long_name AS opponent,\n",
    "    CASE \n",
    "        WHEN m.home_team_goal > m.away_team_goal THEN 'Barcelona win!'\n",
    "        WHEN m.home_team_goal < m.away_team_goal THEN 'Barcelona loss :('\n",
    "        ELSE 'Tie' \n",
    "    END AS outcome\n",
    "FROM Match AS m\n",
    "LEFT JOIN Team AS t ON m.away_team_api_id = t.team_api_id\n",
    "WHERE m.country_id = (SELECT id FROM Country WHERE name = 'Spain')\n",
    "AND m.home_team_api_id = 8634\n",
    "LIMIT 4;"
   ]
  },
  {
   "cell_type": "code",
   "execution_count": null,
   "metadata": {},
   "outputs": [],
   "source": []
  }
 ],
 "metadata": {
  "kernelspec": {
   "display_name": "Python 3 (ipykernel)",
   "language": "python",
   "name": "python3"
  },
  "language_info": {
   "codemirror_mode": {
    "name": "ipython",
    "version": 3
   },
   "file_extension": ".py",
   "mimetype": "text/x-python",
   "name": "python",
   "nbconvert_exporter": "python",
   "pygments_lexer": "ipython3",
   "version": "3.7.7"
  }
 },
 "nbformat": 4,
 "nbformat_minor": 4
}
